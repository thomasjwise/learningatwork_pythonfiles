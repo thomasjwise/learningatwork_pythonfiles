{
 "cells": [
  {
   "cell_type": "markdown",
   "metadata": {},
   "source": [
    "# Introduction to Data Visualization in Python\n",
    "### Thomas Wise\n",
    "### May 16th 2022 \n",
    "\n",
    "## Introduction \n",
    "\n",
    "Welcome! This document is written to accompany *Introduction to Data Visualization in Python*, providing further elaboration of the topics covered in the accompanying presentation. This also acts as a walk through for the practical exercises completed during the session, with worksheets also available in the provided zip files. \n",
    "\n",
    "### Session Objectives \n",
    "\n",
    "- To be introduced to useful Python data visualization packages: *matplotlib* and *seaborn*\n",
    "- To understand the benefits of different plotting methods \n",
    "- To use business style data to generate clear, accessible data visualizations \n",
    "\n",
    "### Transferable Skills \n",
    "\n",
    "- Presenting and Disseminating Data Effectively \n",
    "- Basic Introduction to the use of Python\n",
    "- Basic visualization techniques using \n",
    "- Creative problem solving & debugging\n",
    "\n",
    "### Schedule \n",
    "\n",
    "- Recap and Review of Good Practice \n",
    "- Part 1: Core Plotting in matplotlib\n",
    "    - Section 1: Introduction to matplotlib\n",
    "    - Section 2: Scatter plots in matplotlib\n",
    "    - Section 3: Descriptive plots in matplotlib\n",
    "    - Section 4: Colours and Shapes in matplotlib\n",
    "    - Section 5: Legend specification in matplotlib\n",
    "- Part 2: General Plotting Skills & Alternative Methods \n",
    "    - Section 1: Introduction to seaborn\n",
    "    - Section 2: Saving and Exporting Plots \n",
    "    - Section 3: Other Resources & Materials\n",
    "\n",
    "    \n",
    "### Software, Files and Content \n",
    "\n",
    "This workshop, files and content is available in the accompanying .zip file. If you do not have Anaconda Navigator installed on your machine, you can access an interactive form of this document (so you can complete the exercises) through this [Binder Link](<https://notebooks.gesis.org/binder/jupyter/user/thomasjwise-lea-ork_pythonfiles-i7z7qmxw/lab>). \n",
    "\n",
    "Throughout this session, we will be using the **[Midwest Demographics Data Set](<https://ggplot2.tidyverse.org/reference/midwest.html>)**. This is a data set originally available from the [tidyverse](<https://www.tidyverse.org/>) for R, however is also accessible online. This data set contains demographic information from the 2000 census in the USA, relating to the Midwest States, these 437 observations span 28 variables including county, population information and other demographic information. This will form a foundation for many of our sessions as this provides data easily suited to our initial investigations. \n",
    "\n",
    "To access this data, you can run the following code:"
   ]
  },
  {
   "cell_type": "code",
   "execution_count": 3,
   "metadata": {},
   "outputs": [],
   "source": [
    "# Access the required packages \n",
    "import pandas as pd\n",
    "# Load the packages\n",
    "midwest_data = pd.read_csv(\"http://goo.gl/G1K41K\") \n",
    "\n",
    "#print(midwest_data)"
   ]
  },
  {
   "cell_type": "markdown",
   "metadata": {},
   "source": [
    "---\n",
    "\n",
    "## **Recap and Review of Good Practice**\n",
    "\n",
    "As discussed in the previous session: *Data Visualization Theory*, there are multiple different elements critical to good practice. If you have not attended that session or need a recap, do check it out (it is available as a .pdf in this .zip file). \n",
    "\n",
    "Fundamentally however, we will be using Gestalt Theory alongside Tufte's Principles whilst abiding by ONS accessibility guidance to create accessible, clear and effective data visualizations. \n",
    "\n",
    "## **Part 1: Core plotting in matplotlib**\n",
    "\n",
    "\n",
    "During the first part of this workshop, we will begin by exploring the core plotting techniques in [matplotplot](<https://matplotlib.org/>), which is one of the most commonly used visualization packages in Python. However, in the second part of this, we will also be introducing [seaborn](<https://seaborn.pydata.org/>), another popular package, useful to review in order to understand the importance of potential different package options. \n",
    "\n",
    "Before we begin however, it is important to note that as with many things in data science, programming and even fundamental mathematics, there are a thousand different methods to reach the same goal. Today we shall focus on two of the more common packages and libraries which are used within Python to create visualizations. This of course should not be considered a definitive workshop, rather an introduction and flavour of how to create data visualizations in Python. For more of a dive into alternative packages, examples and techniques do check out the resources at the end of this document. \n",
    "\n",
    "\n",
    "### 1.1: Introduction to matplotlib\n",
    "\n",
    "One of the most commonly used packages for those beginning their data visualization journey in Python is that of [matplotlib](<https://matplotlib.org/>). This package similar to R's [ggplot](<https://ggplot2.tidyverse.org/>) is widely used an highly accessible. \n",
    "\n",
    "First of all, let us begin with loading the package itself. \n"
   ]
  },
  {
   "cell_type": "code",
   "execution_count": 4,
   "metadata": {},
   "outputs": [],
   "source": [
    "## Access the package especially the functions in pyplot\n",
    "import matplotlib as mpl\n",
    "import matplotlib.pyplot as plt"
   ]
  },
  {
   "cell_type": "markdown",
   "metadata": {},
   "source": [
    "Before we begin to construct any plots, we should consider the anatomy of the plots created themselves, as this is a fantastic place to begin: \n",
    "\n",
    "![Anatomy of Matplotlib visualizations from matplot.org](images/figureanatomy_mpl.png)\n",
    "\n",
    "As you can see, visualizations are constructed in Python using multiple layers of different information, whilst applying different functions to achieve these layers. \n",
    "\n",
    "When constructing these visualizations, the matplotlib website details that there are two coding styles which can be used in order to create the visualizations, **Object-Oriented (OO) Style** or the **pyplot style**; although we will introduce both styles during this session, and you are welcome to see which method you prefer, I will be focusing upon the **OO Style** as this is more useful regarding the level of customization which we will be discussing today. It should be noted that the anatomy diagram shown above is done so in the OO Style. \n",
    "\n",
    "In this case, let us begin with the Object Oriented Style of matplotlib data visualization. \n",
    "\n",
    "#### Object Oriented Data Visualization with matplotlib\n",
    "\n",
    "This method, simply put, requires the explicit creation of figures and axes which have methods then called upon them. \n",
    "\n",
    "For example, let us attempt to use Object Oriented programming to create simple plot between the two variables in the midwest data set: *area* and *poptotal*. "
   ]
  },
  {
   "cell_type": "code",
   "execution_count": 5,
   "metadata": {},
   "outputs": [
    {
     "data": {
      "text/plain": [
       "<matplotlib.collections.PathCollection at 0x7fb2ef3bcbb0>"
      ]
     },
     "execution_count": 5,
     "metadata": {},
     "output_type": "execute_result"
    },
    {
     "data": {
      "image/png": "[encoded data removed]",
      "text/plain": [
       "<Figure size 360x360 with 1 Axes>"
      ]
     },
     "metadata": {
      "needs_background": "light"
     },
     "output_type": "display_data"
    }
   ],
   "source": [
    "samplefig, ax = plt.subplots(figsize = (5,5))\n",
    "ax.scatter(x=midwest_data.area, y=midwest_data.poptotal)"
   ]
  },
  {
   "cell_type": "markdown",
   "metadata": {},
   "source": [
    "Here you can see we firstly create a name for the plot, \"samplefig\", prior to creating a visual space area using *plt.subplots()*. Then we can begin to layer information accordingly using different visual calls, in this case scatter, for a scatter plot. \n",
    "\n",
    "One important note to provide here, for those following along, is that to call a specific column of information from a data frame in this case, one must list the data (midwest_data) suffixed by a period (.) before the column name. \n",
    "\n",
    "This of course, becomes increasing complex, as you will see as we progress through the exercises, the more information we wish to express, the more rows of functions one must apply.\n",
    "\n",
    "#### Pyplot Visualizations with matplotlib\n",
    "\n",
    "This complexity however is not limited too just the OO style, with the example below demonstrating the same requirements. Although at this stage you may not be able to clearly see differences in the code, I would advise you look beyond this session to explore the differences in more depth. "
   ]
  },
  {
   "cell_type": "code",
   "execution_count": 6,
   "metadata": {},
   "outputs": [
    {
     "data": {
      "text/plain": [
       "<matplotlib.collections.PathCollection at 0x7fb2ef4c0b80>"
      ]
     },
     "execution_count": 6,
     "metadata": {},
     "output_type": "execute_result"
    },
    {
     "data": {
      "image/png": "[encoded data removed]",
      "text/plain": [
       "<Figure size 360x360 with 1 Axes>"
      ]
     },
     "metadata": {
      "needs_background": "light"
     },
     "output_type": "display_data"
    }
   ],
   "source": [
    "plt.figure(figsize = (5,5))\n",
    "plt.scatter(x=midwest_data.area, y=midwest_data.poptotal)"
   ]
  },
  {
   "cell_type": "markdown",
   "metadata": {},
   "source": [
    "### 1.2: Scatter plots in matplotlib\n",
    "\n",
    "With the key foundations of matplotlib in place, let us explore one of the most fundamental plot types in data visualization; the scatter plot. These are useful tools throughout the data manipulation process, not only for intitally exploring the relationships between variables but also to help illustrate and communicate the messages drawn. \n",
    "\n",
    "As presented previously scatter plots are created in the OO style of matplotlib, using the call *.scatter()* prefixed by the plane or area called upon (usually *ax*). "
   ]
  },
  {
   "cell_type": "code",
   "execution_count": null,
   "metadata": {},
   "outputs": [],
   "source": [
    "## For example: \n",
    "plt.scatter(\n",
    "    x, y,          # x, y axes (data)\n",
    "    s,             # size\n",
    "    c,             # colour\n",
    "    marker,        # marker style\n",
    "    cmap,          # color map (palette provider)\n",
    "    nrom,          # normalize \n",
    "    vim, vmax,     # Colour array min or max \n",
    "    alpha,         # Transparency \n",
    "    linewidths,    # Width of edge marker\n",
    "    edgecolours,   # Edge colour \n",
    "    plotnonfinite) # Whether to plot points with nonfinite (inf, -inf, nan)\n",
    "    "
   ]
  },
  {
   "cell_type": "markdown",
   "metadata": {},
   "source": [
    "### Practical Exercise 1: Scatter Plots in matplotlib\n",
    "#### Exercise 1a\n",
    "Using the template below to help structure your answer, create a scatter plot plotting area (x) against poppovertyknown (y). Adding in the a log scale as a new layer using `ax.set_yscale()`, for this you can use `log`. "
   ]
  },
  {
   "cell_type": "code",
   "execution_count": null,
   "metadata": {},
   "outputs": [],
   "source": [
    "## Structure \n",
    "samplefig, ax = plt.subplots(figsize = (5,5))\n",
    "ax.scatter(x, y)\n"
   ]
  },
  {
   "cell_type": "markdown",
   "metadata": {},
   "source": [
    "#### Exercise 1b: \n",
    "To improve interpretability further, set the alpha value to 0.8, to more clearly see the relationship. "
   ]
  },
  {
   "cell_type": "code",
   "execution_count": null,
   "metadata": {},
   "outputs": [],
   "source": []
  },
  {
   "cell_type": "markdown",
   "metadata": {},
   "source": [
    "#### Exercise 1c: \n",
    "Add the variable percentage college education (*percollege*), to indicate the size parameter (s)"
   ]
  },
  {
   "cell_type": "code",
   "execution_count": null,
   "metadata": {},
   "outputs": [],
   "source": []
  },
  {
   "cell_type": "markdown",
   "metadata": {},
   "source": [
    "So far, we have produced plots without any labels or insights into what the variables are. This although fine for these demonstrations, is extremely poor practice for anyone wanting to interpret our plots outside of this environment. As such, we must add label information through the functions `.set_xlabel()` and `.set_ylabel()` respectively. \n",
    "\n",
    "#### Exercise 1d: \n",
    "Using the plot and code from exercise 1c, add in labels on the x & y axis indicative of the variables. "
   ]
  },
  {
   "cell_type": "code",
   "execution_count": null,
   "metadata": {},
   "outputs": [],
   "source": []
  },
  {
   "cell_type": "markdown",
   "metadata": {},
   "source": [
    "### 1.3: Descriptive plots in matplotlib\n",
    "\n",
    "Similar to scatter plots, descriptive plots, whether bar charts, histograms or density plots are useful tools in helping us understand the data in more detail. Before we dive in, it should be noted that we will only touch the surface of descriptive plots, primarily due to the limited time we have. As such, if you are interested in going beyond, I would highly recommend the *Python Graphics Cookbook* which covers these charts in more detail. \n",
    "\n",
    "To begin, let us consider the following functions: \n",
    "\n",
    "- Histograms & Density Plots: .hist()\n",
    "- Bar Charts: .bar()"
   ]
  },
  {
   "cell_type": "code",
   "execution_count": null,
   "metadata": {},
   "outputs": [],
   "source": [
    "plt.hist(\n",
    "    x,              # x, axes (data)\n",
    "    bins,           # Histogram Bins \n",
    "    range,          # Upper and Lower Range of bins\n",
    "    density,        # Probability density\n",
    "    weights,        # Array of weights\n",
    "    cumulative,     # Cumulative Histogram\n",
    "    bottom,         # Location of the bottom of each bin\n",
    "    histtype,       # Type of histogram, bar, barstacked, step, stepfilled\n",
    "    align,          # left, mid, right aligned \n",
    "    orientation,    # Plot Orientation\n",
    "    rwidth,         # Relative width of the bars as a fraction of the bin width\n",
    "    log,            # Histogram axis set to log scale\n",
    "    color,          # Colour or sequence of colours \n",
    "    label,          # \n",
    "    stacked)        # T/F, whether data is stacked on top of each other\n",
    "    \n",
    "plt.bar(            # Or barh()\n",
    "    x,              # x, y axes (data)\n",
    "    height,         # Bar Height \n",
    "    width,          # Bar Width\n",
    "    bottom,         # Y coordinate of bars bases \n",
    "    align,          # Center or edge alignment of bars\n",
    "    color,          # Colours of bar faces \n",
    "    edgecolor,      # Colours of bar edges \n",
    "    linewidth,      # Width of bar lines \n",
    "    tick_label,     # Tick labels\n",
    "    xerr, yerr,     # X or Y axis error bars\n",
    "    ecolor,         # Error Bar Colours\n",
    "    capsize,        # Size of error bars \n",
    "    error_kw,       # Dictionary of Kwargs \n",
    "    log)            # Log scale of y-axis"
   ]
  },
  {
   "cell_type": "markdown",
   "metadata": {},
   "source": [
    "### Practical Exercise 2: Density Plots in matplotlib\n",
    "#### Exercise 2a: \n",
    "Using plt.hist(), create a standard (default) histogram displaying the quantity of each adult population (popadult). "
   ]
  },
  {
   "cell_type": "code",
   "execution_count": null,
   "metadata": {},
   "outputs": [],
   "source": []
  },
  {
   "cell_type": "markdown",
   "metadata": {},
   "source": [
    "#### Exercise 2b: \n",
    "Using plt.hist(), expand the plot by adding bin definition and setting the `set_xscale()` to log. "
   ]
  },
  {
   "cell_type": "code",
   "execution_count": null,
   "metadata": {},
   "outputs": [],
   "source": []
  },
  {
   "cell_type": "markdown",
   "metadata": {},
   "source": [
    "#### Exercise 2c: \n",
    "Going further, add another parameter to the plot created in 2b, specifying density. \n",
    "\n",
    "When we discuss the seaborn package, we will explore density line plots. "
   ]
  },
  {
   "cell_type": "code",
   "execution_count": null,
   "metadata": {},
   "outputs": [],
   "source": []
  },
  {
   "cell_type": "markdown",
   "metadata": {},
   "source": [
    "#### Exercise 2d: \n",
    "Using .bar(), or .barh(). Create a bar chart displaying a count of the number of states "
   ]
  },
  {
   "cell_type": "code",
   "execution_count": null,
   "metadata": {},
   "outputs": [],
   "source": []
  },
  {
   "cell_type": "markdown",
   "metadata": {},
   "source": [
    "#### Exercise 2e: \n",
    "Using .bar() or barh(). Create a bar chart displaying the interaction between states and population of adults (popadults)"
   ]
  },
  {
   "cell_type": "code",
   "execution_count": null,
   "metadata": {},
   "outputs": [],
   "source": []
  },
  {
   "cell_type": "markdown",
   "metadata": {},
   "source": [
    "### 1.4: Colours and Shapes in matplotlib\n",
    "\n",
    "As we have discussed during our first session on the theory of effective Data Visualization, both colours and shapes can help provide information effectively. Since we are able to easily identify trends and patterns within items of similar or contrasting colours and shapes. This additional layer, or layers, of information can help improve the story which we are telling through our data. \n",
    "\n",
    "This however does come with some limitations, if we limit ourselves to creating plots which purely meet core accessibility standards then we can only effectively use 4 fill colours, who's [hex colours are linked here](<https://gss.civilservice.gov.uk/policy-store/data-visualisation-colours-in-charts/#section-4>). This however does not mean we must limit ourselves to only four variables, although for official publications this is highly recommended. As there are plenty of packages and colour palettes designed specially to be highly accessible for those with colourblindness or visual impairments. \n",
    "\n",
    "Below are a list of the named colours in matplotlib: \n",
    "\n",
    "![Named Colours from matplot.org](images/matplotlib_colours.png)\n",
    "\n",
    "To see an expanded version [click here](<https://matplotlib.org/3.1.0/gallery/color/named_colors.html>)\n",
    "\n",
    "Although this is an issue which should be considered for colours, shapes should also be reviewed in line with accessibility guidance to ensure they present information in an accessible way. \n",
    "\n",
    "### Practical Exercise 3: Colours and Shapes in matplotlib\n",
    "#### Exercise 3a:\n",
    "Creating a new scatter plot, between total population (poptotal) and percentage in poverty (perpovertyknown). Replacing the default colour with one listed on the GSS Accessibility site. "
   ]
  },
  {
   "cell_type": "code",
   "execution_count": null,
   "metadata": {},
   "outputs": [],
   "source": []
  },
  {
   "cell_type": "markdown",
   "metadata": {},
   "source": [
    "Although single colour changes are simple and straight forward, adding colours based upon parameters is more complex. For this, a dictionary of categorical variables must be created in order to then be linked to the variable.\n",
    "\n",
    "#### Exercise 3b:\n",
    "Using the pre-determined key below, and the code written for Exercise 3a, add a mapping layer code chunk which adds states by colour to the scatter plot."
   ]
  },
  {
   "cell_type": "code",
   "execution_count": null,
   "metadata": {
    "scrolled": true
   },
   "outputs": [],
   "source": [
    "colours_states = {'IL':'blue', 'IN':'green', 'MI':'orange', 'OH':'purple', 'WI':'black'}\n",
    "\n",
    "c=midwest_data.state.map(colours_states)"
   ]
  },
  {
   "cell_type": "markdown",
   "metadata": {},
   "source": [
    "Similarly markers can be specified like colours, to change the shapes of the points in scatter plots. To find a full list of the options available check them out [here](<https://matplotlib.org/stable/api/markers_api.html>).\n",
    "\n",
    "#### Exericse 3c: \n",
    "Using the link provided previously, listing the markers available through matplotlib guidance. Change the shapes of the plot (marker parameter), to something other than a plain circle. \n"
   ]
  },
  {
   "cell_type": "code",
   "execution_count": null,
   "metadata": {},
   "outputs": [],
   "source": []
  },
  {
   "cell_type": "markdown",
   "metadata": {},
   "source": [
    "Before moving onto discussing legend specification, it should be important to note further that it is also possible to use shapes as variable indicators similar to the way we use colours. However this is significantly easier to discuss in relation to Seaborn, so once again we will discuss it in section 2.1. \n",
    "\n",
    "### 1.5: Legend Specifications in matplotlib\n",
    "\n",
    "As we have discussed previously, labels are incredibly important to being able to understand the information provided. This is similarly important for the legends specified. \n",
    "\n",
    "The addition of legends, for colours, shapes and sizes can be applied simply through the function `.legend()`.  \n",
    "\n",
    "#### Exercise 4a: \n",
    "Create a new scatter plot between area and poptotal, with colour dictated by state and size as percollege. "
   ]
  },
  {
   "cell_type": "code",
   "execution_count": null,
   "metadata": {},
   "outputs": [],
   "source": []
  },
  {
   "cell_type": "markdown",
   "metadata": {},
   "source": [
    "#### Exercise 4b: \n",
    "Add a legend to the plot created in Exercise 4a, indicating state & size. Use resources you can find on the matplotlib website or other sites to complete this exercise. "
   ]
  },
  {
   "cell_type": "code",
   "execution_count": null,
   "metadata": {},
   "outputs": [],
   "source": []
  },
  {
   "cell_type": "markdown",
   "metadata": {},
   "source": [
    "---\n",
    "\n",
    "## Part 2: General Plotting Skills & Alternative Methods\n",
    "\n",
    "As we have now discussed the basics of matplotlib, now we should further discuss both general plotting methods including saving and exporting plots, in addition to alternative methods of plotting which are better to use in some cases than Object Orientation styles. \n",
    "\n"
   ]
  },
  {
   "cell_type": "markdown",
   "metadata": {},
   "source": [
    "### 2.1: Introduction to seaborn\n",
    "\n",
    "Seaborn is a data visualization library based upon matplotlib, but focused on providing attractive and informative statistical graphics. This, package, in my opinion is very close to graphics produced through the R package ggplot2, as it shares not only similar assumptions, but also a similar relationship in its usability as an upgrade from its base form (matplotlib vs base R).\n",
    "\n",
    "#### Exercise 5a: \n",
    "Load in the package seaborn "
   ]
  },
  {
   "cell_type": "code",
   "execution_count": null,
   "metadata": {},
   "outputs": [],
   "source": [
    "import seaborn as sns"
   ]
  },
  {
   "cell_type": "markdown",
   "metadata": {},
   "source": [
    "Now this is imported, we can consider the differences between matplotlib and seaborn in the production of scatter plots. \n",
    "\n",
    "#### Exercise 5b: \n",
    "Using the information regarding the [sns.relplot function found here](<https://seaborn.pydata.org/generated/seaborn.relplot.html>), create a default scatter plot between area and popdensity."
   ]
  },
  {
   "cell_type": "code",
   "execution_count": null,
   "metadata": {},
   "outputs": [],
   "source": []
  },
  {
   "cell_type": "markdown",
   "metadata": {},
   "source": [
    "#### Exercise 5c: \n",
    "Going further, what happens when we apply state as the colour hue to this plot? Is this result similar to that produced by matplotlib?"
   ]
  },
  {
   "cell_type": "code",
   "execution_count": null,
   "metadata": {},
   "outputs": [],
   "source": []
  },
  {
   "cell_type": "markdown",
   "metadata": {},
   "source": [
    "#### Exercise 5d: \n",
    "Once again, repeat this process, accept rather than hue, connect the state variable to style marker to change the shape of the points per state. "
   ]
  },
  {
   "cell_type": "code",
   "execution_count": null,
   "metadata": {},
   "outputs": [],
   "source": []
  },
  {
   "cell_type": "markdown",
   "metadata": {},
   "source": [
    "Hopefully from this you can see that although seaborn may have a slightly different learning curve, it shows the potential to be more accessible as like ggplot2, this automatically creates more attractive and illustrative plots than those created by default by matplotlib. If you would like to go further, begin to explore the other benefits or advantages of using seaborn. We will be using this more during our next session on intermediate data visualization. "
   ]
  },
  {
   "cell_type": "markdown",
   "metadata": {},
   "source": [
    "### 2.2: Saving and Exporting Plots \n",
    "\n",
    "One of the final important elements to consider when learning how to produce effective visualizations is how to save and export the plots you are creating. Returning to matplotlib, we can use the **[savefig()](<https://matplotlib.org/stable/api/_as_gen/matplotlib.pyplot.savefig.html>)** function in order to export the plots we have created. \n",
    "\n",
    "#### Exercise 6a:\n",
    "Using .savefig(), export any of the plots we have produced today. Use the [matplotlib online guide](<https://matplotlib.org/stable/api/_as_gen/matplotlib.pyplot.savefig.html>) to help you understand how to apply this function."
   ]
  },
  {
   "cell_type": "code",
   "execution_count": null,
   "metadata": {},
   "outputs": [],
   "source": []
  },
  {
   "cell_type": "markdown",
   "metadata": {},
   "source": [
    "### 2.3: Other Resources & Materials"
   ]
  },
  {
   "cell_type": "markdown",
   "metadata": {},
   "source": [
    "- [Python Data Science Handbook](<https://jakevdp.github.io/PythonDataScienceHandbook/>) - Especially chapter 4\n",
    "- [Fundamentals of Data Visualization](<https://clauswilke.com/dataviz/>)"
   ]
  }
 ],
 "metadata": {
  "kernelspec": {
   "display_name": "Python 3",
   "language": "python",
   "name": "python3"
  },
  "language_info": {
   "codemirror_mode": {
    "name": "ipython",
    "version": 3
   },
   "file_extension": ".py",
   "mimetype": "text/x-python",
   "name": "python",
   "nbconvert_exporter": "python",
   "pygments_lexer": "ipython3",
   "version": "3.8.3"
  }
 },
 "nbformat": 4,
 "nbformat_minor": 4
}
